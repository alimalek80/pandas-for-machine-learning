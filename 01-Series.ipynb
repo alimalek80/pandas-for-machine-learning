{
 "cells": [
  {
   "cell_type": "code",
   "execution_count": 1,
   "id": "51dfcd98-f162-47f4-a66c-7a476e805da0",
   "metadata": {},
   "outputs": [],
   "source": [
    "import pandas as pd\n",
    "import numpy as np"
   ]
  },
  {
   "cell_type": "code",
   "execution_count": 2,
   "id": "bec547e7-1ca1-49aa-a3e3-fe3091297770",
   "metadata": {},
   "outputs": [],
   "source": [
    "# Pandas series - like a Table Column - 1 Dimensional Array Holding Any Type of Data"
   ]
  },
  {
   "cell_type": "code",
   "execution_count": 3,
   "id": "d2cdb4a5-c1c2-4833-9d21-c2ece0f44ed9",
   "metadata": {},
   "outputs": [
    {
     "data": {
      "text/plain": [
       "0     5\n",
       "1     9\n",
       "2    12\n",
       "3    27\n",
       "dtype: int64"
      ]
     },
     "execution_count": 3,
     "metadata": {},
     "output_type": "execute_result"
    }
   ],
   "source": [
    "my_series = [5,9,12,27]\n",
    "my_var = pd.Series(my_series)\n",
    "my_var"
   ]
  },
  {
   "cell_type": "markdown",
   "id": "b1aa4250-1089-4c6c-b69e-124e98b871a4",
   "metadata": {},
   "source": [
    "## Print specific value"
   ]
  },
  {
   "cell_type": "code",
   "execution_count": null,
   "id": "05e25cac-2357-4553-aef2-ae2e521fce11",
   "metadata": {},
   "outputs": [],
   "source": [
    "my_var[2]"
   ]
  },
  {
   "cell_type": "markdown",
   "id": "4b5891fe-4950-4ab1-a627-53cb2ce9458d",
   "metadata": {},
   "source": [
    "## Labels using the index argument"
   ]
  },
  {
   "cell_type": "code",
   "execution_count": 6,
   "id": "c5021ea8-2b53-4b40-9a11-8d70ba913e08",
   "metadata": {},
   "outputs": [
    {
     "data": {
      "text/plain": [
       "A     5\n",
       "B     9\n",
       "C    12\n",
       "D    27\n",
       "dtype: int64"
      ]
     },
     "execution_count": 6,
     "metadata": {},
     "output_type": "execute_result"
    }
   ],
   "source": [
    "my_index = [\"A\", \"B\", \"C\", \"D\"]\n",
    "my_var2 = pd.Series(my_series, index=my_index)\n",
    "my_var2"
   ]
  },
  {
   "cell_type": "code",
   "execution_count": 7,
   "id": "f7ce92e0-1321-4bd5-a59c-874c5d2ccb24",
   "metadata": {},
   "outputs": [
    {
     "data": {
      "text/plain": [
       "np.int64(12)"
      ]
     },
     "execution_count": 7,
     "metadata": {},
     "output_type": "execute_result"
    }
   ],
   "source": [
    "my_var2[\"C\"]"
   ]
  },
  {
   "cell_type": "markdown",
   "id": "1f5e664f-0c6f-43b4-95a1-dd0550df41d2",
   "metadata": {},
   "source": [
    "## Key Value Dictionary"
   ]
  },
  {
   "cell_type": "code",
   "execution_count": 8,
   "id": "6e80d641-49ce-4fd1-b0a5-795b19693dc8",
   "metadata": {},
   "outputs": [
    {
     "data": {
      "text/plain": [
       "Tesla       12\n",
       "Mercedes    42\n",
       "BMW          3\n",
       "dtype: int64"
      ]
     },
     "execution_count": 8,
     "metadata": {},
     "output_type": "execute_result"
    }
   ],
   "source": [
    "cars = {\"Tesla\": 12, \"Mercedes\": 42, \"BMW\":3}\n",
    "my_var3 = pd.Series(cars)\n",
    "my_var3"
   ]
  },
  {
   "cell_type": "code",
   "execution_count": 9,
   "id": "98bbc157-c1c9-49f8-be6f-3ead64cd1cc0",
   "metadata": {},
   "outputs": [
    {
     "data": {
      "text/plain": [
       "np.int64(12)"
      ]
     },
     "execution_count": 9,
     "metadata": {},
     "output_type": "execute_result"
    }
   ],
   "source": [
    "my_var3[\"Tesla\"]"
   ]
  },
  {
   "cell_type": "code",
   "execution_count": null,
   "id": "8984161e-70d9-4273-8a0a-b5bba505e1cd",
   "metadata": {},
   "outputs": [],
   "source": []
  }
 ],
 "metadata": {
  "kernelspec": {
   "display_name": "Python 3 (ipykernel)",
   "language": "python",
   "name": "python3"
  },
  "language_info": {
   "codemirror_mode": {
    "name": "ipython",
    "version": 3
   },
   "file_extension": ".py",
   "mimetype": "text/x-python",
   "name": "python",
   "nbconvert_exporter": "python",
   "pygments_lexer": "ipython3",
   "version": "3.13.1"
  }
 },
 "nbformat": 4,
 "nbformat_minor": 5
}
